{
 "cells": [
  {
   "cell_type": "markdown",
   "metadata": {},
   "source": [
    "# Document Summarization\n",
    "\n",
    "Document Summarization menggunakan metode BERT yang dilatih menggunakan bahasa indonesia yaitu IndoBERT\n"
   ]
  },
  {
   "cell_type": "markdown",
   "metadata": {},
   "source": [
    "## Prepare the article\n"
   ]
  },
  {
   "cell_type": "code",
   "execution_count": 83,
   "metadata": {},
   "outputs": [
    {
     "data": {
      "text/plain": [
       "'Liputan6.com, Jakarta - Harga smartphone flagship terbaru Samsung selalu jadi topik hangat dan menarik perhatian. Kabarnya, Galaxy S25 Ultra akan mengalami kenaikan harga dibandingkan pendahulunya, Galaxy S24 Ultra.\\n\\nRumor ini muncul dari laporan di Tiongkok yang menyatakan alasan utama naiknya harga seri ini, yaitu biaya produksi yang lebih tinggi (bill of materials atau BoM).\\n\\nBerdasarkan rumor yang beredar, biaya produksi Galaxy S25 Ultra meningkat setidaknya sekitar USD 110 (setara dengan Rp 1,7 jutaan) dibandingkan Galaxy S24 Ultra. Kenaikan ini jelas saja berpengaruh pada harga Galaxy S25 Ultra.\\n\\nAdvertisement\\n\\nMengutip GSM Arena, Senin (25/11/2024), untuk menutup selisih biaya tersebut, Samsung kemungkinan akan menaikkan harga di sebagian besar wilayah penjualan Samsung. Berbeda dengan pasar global, harga di Tiongkok diprediksi akan tetap stabil karena persaingan harga yang ketat.\\n\\nTeknologi Layar Galaxy S25 Ultra\\n\\nWalupun biaya produksi naik, Samsung juga dikabarkan melakukan pemangkasan biasa di lini Galaxy S25, terutama pada teknologi layar. Namun, sepertinya pemangkasan biaya dari segi layar ini hanya berlaku untuk model selain versi Ultra, jadi Samsung Galaxy S25 Ultra tetap membawa teknologi premium.\\n\\nTanggal Rilis\\n\\nSamsung diperkirakan akan meluncurkan Galaxy S25 Ultra pada event Unpacked secara resmi pada Januari 2025. Belum jelas apakah peluncurannya akan dilakukan di awal atau akhir bulan, tapi penggemar gadget pasti sudah tidak sabar menantikan kehadiran flagship ini.'"
      ]
     },
     "execution_count": 83,
     "metadata": {},
     "output_type": "execute_result"
    }
   ],
   "source": [
    "from newspaper import Article\n",
    "\n",
    "url = \"https://www.liputan6.com/tekno/read/5797513/harga-galaxy-s25-ultra-disebut-lebih-mahal-gara-gara-hal-ini\"\n",
    "article = Article(url)\n",
    "\n",
    "article.download()\n",
    "article.parse()\n",
    "\n",
    "article.text"
   ]
  },
  {
   "cell_type": "markdown",
   "metadata": {},
   "source": [
    "## Load Model\n"
   ]
  },
  {
   "cell_type": "code",
   "execution_count": null,
   "metadata": {},
   "outputs": [
    {
     "name": "stdout",
     "output_type": "stream",
     "text": [
      "Harga smartphone flagship terbaru Samsung selalu jadi topik hangat dan menarik perhatian. Rumor ini muncul dari laporan di Tiongkok yang menyatakan alasan utama naiknya harga seri ini, yaitu biaya produksi yang lebih tinggi (bill of materials atau BoM).\n"
     ]
    }
   ],
   "source": [
    "from transformers import T5Tokenizer, T5ForConditionalGeneration\n",
    "\n",
    "\n",
    "model_name = \"cahya/t5-base-indonesian-summarization-cased\"\n",
    "tokenizer = T5Tokenizer.from_pretrained(model_name)\n",
    "model = T5ForConditionalGeneration.from_pretrained(model_name)\n",
    "\n",
    "# generate summary\n",
    "input_ids = tokenizer.encode(article.text, return_tensors=\"pt\")\n",
    "summary_ids = model.generate(\n",
    "    input_ids,\n",
    "    min_length=50,\n",
    "    max_length=150,\n",
    "    num_beams=10,\n",
    "    repetition_penalty=2.5,\n",
    "    length_penalty=1.0,\n",
    "    early_stopping=True,\n",
    "    no_repeat_ngram_size=2,\n",
    "    use_cache=True,\n",
    "    do_sample=True,\n",
    "    temperature=0.8,\n",
    "    top_k=50,\n",
    "    top_p=0.95,\n",
    ")\n",
    "\n",
    "\n",
    "summary_text = tokenizer.decode(summary_ids[0], skip_special_tokens=True)\n",
    "print(summary_text)"
   ]
  }
 ],
 "metadata": {
  "kernelspec": {
   "display_name": "Python 3",
   "language": "python",
   "name": "python3"
  },
  "language_info": {
   "codemirror_mode": {
    "name": "ipython",
    "version": 3
   },
   "file_extension": ".py",
   "mimetype": "text/x-python",
   "name": "python",
   "nbconvert_exporter": "python",
   "pygments_lexer": "ipython3",
   "version": "3.11.8"
  }
 },
 "nbformat": 4,
 "nbformat_minor": 2
}
