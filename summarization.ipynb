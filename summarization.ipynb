{
 "cells": [
  {
   "cell_type": "code",
   "execution_count": 39,
   "metadata": {},
   "outputs": [],
   "source": [
    "from newspaper import Article\n",
    "from transformers import BertTokenizer, EncoderDecoderModel\n",
    "import os\n"
   ]
  },
  {
   "cell_type": "code",
   "execution_count": 40,
   "metadata": {},
   "outputs": [],
   "source": [
    "# === Abstractive Summarization ===\n",
    "def abstractive_summary(text):\n",
    "    tokenizer = BertTokenizer.from_pretrained(\"cahya/bert2bert-indonesian-summarization\")\n",
    "    tokenizer.bos_token = tokenizer.cls_token\n",
    "    tokenizer.eos_token = tokenizer.sep_token\n",
    "    model = EncoderDecoderModel.from_pretrained(\"cahya/bert2bert-indonesian-summarization\")\n",
    "\n",
    "    # Generate summary\n",
    "    input_ids = tokenizer.encode(text, return_tensors=\"pt\", max_length=512, truncation=True)\n",
    "    summary_ids = model.generate(\n",
    "        input_ids,\n",
    "        min_length=20,\n",
    "        max_length=80,\n",
    "        num_beams=10,\n",
    "        repetition_penalty=2.5,\n",
    "        length_penalty=1.0,\n",
    "        early_stopping=True,\n",
    "        no_repeat_ngram_size=2,\n",
    "    )\n",
    "\n",
    "    summary_text = tokenizer.decode(summary_ids[0], skip_special_tokens=True)\n",
    "    return summary_text"
   ]
  },
  {
   "cell_type": "code",
   "execution_count": 41,
   "metadata": {},
   "outputs": [],
   "source": [
    "# === Ambil Teks Artikel dari URL ===\n",
    "def fetch_article(url):\n",
    "    article = Article(url)\n",
    "    article.download()\n",
    "    article.parse()\n",
    "    return article.text"
   ]
  },
  {
   "cell_type": "code",
   "execution_count": 42,
   "metadata": {},
   "outputs": [
    {
     "name": "stdout",
     "output_type": "stream",
     "text": [
      "\n",
      "Teks asli berita:\n",
      "Liputan6.com, Jakarta - Timnas Indonesia menunjukkan performa menjanjikan dalam tiga pertandingan awal Kualifikasi Piala Dunia 2026 Zona Asia Grup C di bawah arahan Shin Tae-yong. Skuad Garuda belum mampu bersaing dengan tim-tim kuat seperti Arab Saudi dan Australia.\n",
      "\n",
      "Indonesia mengawali kampanye mereka saat berhadapan dengan Arab Saudi, yang berakhir imbang dengan skor 1-1. Sandy Walsh berhasil mencatatkan namanya sebagai pembuka gol untuk timnas Indonesia di kualifikasi ini.\n",
      "\n",
      "Perjuangan berat kembali dialami Garuda saat bersua Australia dan Bahrain di laga kedua dan ketiga. Meskipun sudah bermain lebih baik dari pertandingan sebelumnya, Skuad Garuda belum bisa merasakan kemenangan di panggung bergengsi tersebut.\n",
      "\n",
      "Advertisement\n",
      "\n",
      "Mimpi buruk lalu dialami Skuad Garuda saat melawat ke markas tuan rumah China. Meski Thom Haye berhasil memecah kebuntuan di menit-menit akhir, gol spektakulernya belum cukup untuk mencegah kekalahan pahit dari tim Tirai Bambu.\n",
      "\n",
      "=== Ringkasan Abstractive ===\n",
      "timnas indonesia menunjukkan performa menjanjikan dalam tiga pertandingan awal kualifikasi piala dunia 2026 zona asia grup c di bawah arahan shin tae - yong.\n"
     ]
    }
   ],
   "source": [
    "# Menonaktifkan peringatan symlink untuk caching\n",
    "os.environ[\"HF_HUB_DISABLE_SYMLINKS_WARNING\"] = \"1\"\n",
    "\n",
    "# === Main Program ===\n",
    "if __name__ == \"__main__\":\n",
    "    # Input URL berita\n",
    "    url = input(\"Masukkan link berita: \")\n",
    "    \n",
    "    try:\n",
    "        # Unduh artikel\n",
    "        article_text = fetch_article(url)\n",
    "        if not article_text:\n",
    "            print(\"Teks artikel kosong!\")\n",
    "            exit()\n",
    "\n",
    "        print(\"\\nTeks asli berita:\")\n",
    "        print(article_text)\n",
    "\n",
    "        # Abstractive Summary\n",
    "        print(\"\\n=== Ringkasan Abstractive ===\")\n",
    "        abstractive = abstractive_summary(article_text)\n",
    "        if abstractive:\n",
    "            print(abstractive)\n",
    "        else:\n",
    "            print(\"Tidak dapat menghasilkan ringkasan.\")\n",
    "    except Exception as e:\n",
    "        print(\"Terjadi kesalahan:\", e)"
   ]
  }
 ],
 "metadata": {
  "kernelspec": {
   "display_name": "Python 3",
   "language": "python",
   "name": "python3"
  },
  "language_info": {
   "codemirror_mode": {
    "name": "ipython",
    "version": 3
   },
   "file_extension": ".py",
   "mimetype": "text/x-python",
   "name": "python",
   "nbconvert_exporter": "python",
   "pygments_lexer": "ipython3",
   "version": "3.11.4"
  }
 },
 "nbformat": 4,
 "nbformat_minor": 2
}
